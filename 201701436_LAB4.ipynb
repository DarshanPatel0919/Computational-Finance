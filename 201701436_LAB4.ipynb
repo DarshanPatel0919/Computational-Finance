{
  "nbformat": 4,
  "nbformat_minor": 0,
  "metadata": {
    "colab": {
      "name": "201701436_LAB4.ipynb",
      "provenance": [],
      "private_outputs": true,
      "collapsed_sections": [],
      "authorship_tag": "ABX9TyO/7JBKWNKbaiZcCDEco7M3",
      "include_colab_link": true
    },
    "kernelspec": {
      "name": "python3",
      "display_name": "Python 3"
    }
  },
  "cells": [
    {
      "cell_type": "markdown",
      "metadata": {
        "id": "view-in-github",
        "colab_type": "text"
      },
      "source": [
        "<a href=\"https://colab.research.google.com/github/DarshanPatel0919/Computational-Finance/blob/main/201701436_LAB4.ipynb\" target=\"_parent\"><img src=\"https://colab.research.google.com/assets/colab-badge.svg\" alt=\"Open In Colab\"/></a>"
      ]
    },
    {
      "cell_type": "code",
      "metadata": {
        "id": "BQGF_wanRORl"
      },
      "source": [
        "#\n",
        "#     Author  : Darshan Patel\n",
        "#     Stock Return prediction using- \n",
        "#     -Geomatric Brownian motion\n",
        "#     Date    : 14/02/2020 \n",
        "#"
      ],
      "execution_count": null,
      "outputs": []
    },
    {
      "cell_type": "code",
      "metadata": {
        "id": "47ybkU_yKLA6"
      },
      "source": [
        "#   Libraries\n",
        "import numpy as np\n",
        "import pandas as pd\n",
        "import pylab as plt"
      ],
      "execution_count": null,
      "outputs": []
    },
    {
      "cell_type": "code",
      "metadata": {
        "id": "z9v-9eeuKVje"
      },
      "source": [
        "#   Functions\n",
        "def GBM(s0,N,T,seed,mu,sig):\n",
        "  np.random.seed(seed)\n",
        "  n = N*T\n",
        "  t = np.linspace(0,T,n)\n",
        "  w = np.zeros(n)\n",
        "  for i in range(n-1):\n",
        "    w[i+1]  =  w[i] + np.random.normal()\n",
        "  w = w / np.sqrt(N)    #Scaling\n",
        "  s = s0*np.exp((mu-(sig*sig/2))*t + sig*w)\n",
        "  return t,w,s "
      ],
      "execution_count": null,
      "outputs": []
    },
    {
      "cell_type": "code",
      "metadata": {
        "id": "W6VFsmcUL_zr"
      },
      "source": [
        "#   Q1\n",
        "s0,N,T,seed,mu,sigma = 55.25,64,10,5,0.15,0.4\n",
        "\n",
        "t,w,s = GBM(s0,N,T,seed,mu,sigma)\n",
        "\n",
        "plt.plot(t,w)\n",
        "plt.xlabel('time')\n",
        "plt.ylabel('')\n",
        "plt.title('Brownian Motion')\n",
        "plt.show()\n",
        "\n",
        "#   Q2\n",
        "T = 2\n",
        "plt.plot(t[:N*T],s[:N*T])\n",
        "plt.xlabel('time')\n",
        "plt.ylabel('Stock price')\n",
        "plt.title('Geomatric Brownian Motion')\n",
        "plt.show()"
      ],
      "execution_count": null,
      "outputs": []
    },
    {
      "cell_type": "code",
      "metadata": {
        "id": "QEvKlY8wM5Rh"
      },
      "source": [
        "#   Reading data for Q3\n",
        "df = pd.read_csv('Amazon.csv')\n",
        "k = df.keys()\n",
        "k"
      ],
      "execution_count": null,
      "outputs": []
    },
    {
      "cell_type": "code",
      "metadata": {
        "id": "221-7c_UQEGg"
      },
      "source": [
        "#   Extracting useful data (Adj. Close)\n",
        "st = np.array( df[k[-2]])\n",
        "\n",
        "st1 = st[:-1]\n",
        "st2 = st[1:]\n",
        "\n",
        "\n",
        "#   Calculating returns (delta_S/S)\n",
        "ret = (st2 - st1) / st1"
      ],
      "execution_count": null,
      "outputs": []
    },
    {
      "cell_type": "code",
      "metadata": {
        "id": "0BnfBpTNQlqJ"
      },
      "source": [
        "#   Q3\n",
        "days = 252\n",
        "s0,N,T,seed = 636.99,64,2,22\n",
        "mu = np.mean(ret)*days\n",
        "sigma = np.std(ret)*np.sqrt(days)\n",
        "\n",
        "print(mu,sig)\n",
        "\n",
        "t,w,s = GBM(s0,N,T,seed,mu,sigma)\n",
        "plt.plot(t,w)\n",
        "plt.xlabel('time')\n",
        "plt.ylabel('')\n",
        "plt.title('Brownian Motion')\n",
        "plt.show()\n",
        "\n",
        "plt.plot(t,s)\n",
        "plt.xlabel('time')\n",
        "plt.ylabel('Stock price')\n",
        "plt.title(\"Geomatric Brownian Motion\")\n",
        "plt.show()"
      ],
      "execution_count": null,
      "outputs": []
    },
    {
      "cell_type": "code",
      "metadata": {
        "id": "zyYXzvEx3SMe"
      },
      "source": [
        "27.013982155731906\n",
        "27.021487081966665\n",
        "27.028994093192722\n",
        "27.036503189989325\n",
        "27.044014372935877\n",
        "27.05152764261195\n",
        "27.059042999597267\n",
        "27.066560444471715\n",
        "27.074079977815348\n",
        "27.081601600208376\n",
        "27.089125312231168\n",
        "27.09665111446426\n",
        "27.104179007488355\n",
        "27.111708991884292\n",
        "27.119241068233098\n",
        "27.126775237115954\n",
        "27.134311499114194\n",
        "27.141849854809323\n",
        "27.149390304783\n",
        "27.15693284961706\n",
        "27.16447748989348\n",
        "27.17202422619441\n",
        "27.17957305910216\n",
        "27.187123989199204\n",
        "27.194677017068177\n",
        "27.20223214329187\n",
        "27.20978936845324\n",
        "27.21734869313541\n",
        "27.22491011792166\n",
        "27.23247364339543\n",
        "27.24003927014033"
      ],
      "execution_count": null,
      "outputs": []
    }
  ]
}