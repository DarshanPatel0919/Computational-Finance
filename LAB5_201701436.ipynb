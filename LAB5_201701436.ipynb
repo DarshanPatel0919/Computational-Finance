{
  "nbformat": 4,
  "nbformat_minor": 0,
  "metadata": {
    "kernelspec": {
      "display_name": "Python 3",
      "language": "python",
      "name": "python3"
    },
    "language_info": {
      "codemirror_mode": {
        "name": "ipython",
        "version": 3
      },
      "file_extension": ".py",
      "mimetype": "text/x-python",
      "name": "python",
      "nbconvert_exporter": "python",
      "pygments_lexer": "ipython3",
      "version": "3.7.3"
    },
    "colab": {
      "name": "LAB5_201701436.ipynb",
      "provenance": [],
      "collapsed_sections": [],
      "include_colab_link": true
    }
  },
  "cells": [
    {
      "cell_type": "markdown",
      "metadata": {
        "id": "view-in-github",
        "colab_type": "text"
      },
      "source": [
        "<a href=\"https://colab.research.google.com/github/DarshanPatel0919/Computational-Finance/blob/main/LAB5_201701436.ipynb\" target=\"_parent\"><img src=\"https://colab.research.google.com/assets/colab-badge.svg\" alt=\"Open In Colab\"/></a>"
      ]
    },
    {
      "cell_type": "code",
      "metadata": {
        "id": "FmzgcMXMGCvA"
      },
      "source": [
        "import numpy as np\n",
        "import pylab as plt\n",
        "import math\n",
        "import scipy.stats as si"
      ],
      "execution_count": null,
      "outputs": []
    },
    {
      "cell_type": "markdown",
      "metadata": {
        "id": "Lp3EEtSgGCvI"
      },
      "source": [
        "## Q 1 : Barrier Option"
      ]
    },
    {
      "cell_type": "code",
      "metadata": {
        "id": "oAj0TyBUGCvW"
      },
      "source": [
        "def BSM(x,t,T,k,r,sig):\n",
        "    tau=T-t\n",
        "    d1=(np.log(x/k) + (r+0.5*(sig*sig))*tau)/(sig*np.sqrt(tau))\n",
        "    d2=d1-(sig*np.sqrt(tau))\n",
        "    bsm = x*si.norm.cdf(d1,0.0,1.0) -k*np.exp(-r*tau)*si.norm.cdf(d2,0.0,1.0)\n",
        "    print('BSM Price :',bsm,'\\n')\n",
        "def MonteCarlo_Antithetic_BarrierOption(K,n,N,sig,r,s0,V):\n",
        "    Sin=np.zeros(K)\n",
        "    Sout=np.zeros(K)\n",
        "    Sinn=np.zeros(K)\n",
        "    Soutt=np.zeros(K) \n",
        "    std = sig/np.sqrt(N) \n",
        "    mu=(r-0.5*(std*std*N))/N\n",
        "\n",
        "    for j in range(K):\n",
        "        np.random.seed(j+1)\n",
        "        xi = np.random.normal(mu,std,n)\n",
        "        S,DIi,DIo=[s0],0,1\n",
        "        for i in range(n):\n",
        "            S.append(S[-1]*np.exp(xi[i]))\n",
        "            if (S[-1]<=V):DIi,DIo=1,0\n",
        "        Sin[j]=np.exp(-r*n/N)*DIi*max(S[-1]-k,0)\n",
        "        Sout[j]=np.exp(-r*n/N)*DIo*max(S[-1]-k,0)\n",
        "\n",
        "        S,DIi,DIo=[s0],0,1\n",
        "        for i in range(n): \n",
        "            S.append(S[-1]*np.exp(2*mu-xi[i]))\n",
        "            if (S[-1]<=V):DIi,DIo=1,0\n",
        "        Sinn[j]=np.exp(-r*n/N)*DIi*max(S[-1]-k,0)\n",
        "        Soutt[j]=np.exp(-r*n/N)*DIo*max(S[-1]-k,0)\n",
        "        \n",
        "\n",
        "    din=np.mean(Sin)\n",
        "    dout=np.mean(Sout)\n",
        "    print('Simulations = ',K,'\\nMonte Carlo\\n',' Down and in barrier option value : ',din,'\\n  Down and out barrier option value: ',dout)\n",
        "    print('  Sum of both barrier option values: ',din+dout,'\\n')\n",
        "    din=np.mean((Sinn+Sin)/2)\n",
        "    dout=np.mean((Soutt+Sout)/2)\n",
        "    print('Antithetic variable \\n  Down and in barrier option value : ',din,'\\n  Down and out barrier option value: ',dout)\n",
        "    print('  Sum of both barrier option values: ',din+dout,'\\n\\n')"
      ],
      "execution_count": null,
      "outputs": []
    },
    {
      "cell_type": "code",
      "metadata": {
        "scrolled": true,
        "id": "SzU4auAmGCvZ",
        "outputId": "ccc34a35-2f24-4738-8d96-6ae7699d0e1e",
        "colab": {
          "base_uri": "https://localhost:8080/",
          "height": 867
        }
      },
      "source": [
        "k,r,sig,n,V,N,s0=50,5e-2,0.3,252,45,252,50\n",
        "BSM(50,0,1,k,r,sig)\n",
        "for i in range(2,6):MonteCarlo_Antithetic_BarrierOption(10**i,n,N,sig,r,s0,V)"
      ],
      "execution_count": null,
      "outputs": [
        {
          "output_type": "stream",
          "text": [
            "BSM Price : 7.115627392992909 \n",
            "\n",
            "Simulations =  100 \n",
            "Monte Carlo\n",
            "  Down and in barrier option value :  1.7064282987045478 \n",
            "  Down and out barrier option value:  4.69656370357911\n",
            "  Sum of both barrier option values:  6.402992002283658 \n",
            "\n",
            "Antithetic variable \n",
            "  Down and in barrier option value :  1.605512829561335 \n",
            "  Down and out barrier option value:  5.11126650541125\n",
            "  Sum of both barrier option values:  6.7167793349725855 \n",
            "\n",
            "\n",
            "Simulations =  1000 \n",
            "Monte Carlo\n",
            "  Down and in barrier option value :  2.194800905518483 \n",
            "  Down and out barrier option value:  5.195233463992542\n",
            "  Sum of both barrier option values:  7.390034369511025 \n",
            "\n",
            "Antithetic variable \n",
            "  Down and in barrier option value :  2.021693516293855 \n",
            "  Down and out barrier option value:  4.989346475694626\n",
            "  Sum of both barrier option values:  7.011039991988481 \n",
            "\n",
            "\n",
            "Simulations =  10000 \n",
            "Monte Carlo\n",
            "  Down and in barrier option value :  2.2089038383863384 \n",
            "  Down and out barrier option value:  5.106335650417762\n",
            "  Sum of both barrier option values:  7.3152394888041 \n",
            "\n",
            "Antithetic variable \n",
            "  Down and in barrier option value :  2.086333250258229 \n",
            "  Down and out barrier option value:  5.109939651048694\n",
            "  Sum of both barrier option values:  7.196272901306923 \n",
            "\n",
            "\n",
            "Simulations =  100000 \n",
            "Monte Carlo\n",
            "  Down and in barrier option value :  2.156907061450877 \n",
            "  Down and out barrier option value:  4.939425793160284\n",
            "  Sum of both barrier option values:  7.096332854611161 \n",
            "\n",
            "Antithetic variable \n",
            "  Down and in barrier option value :  2.1349480662054106 \n",
            "  Down and out barrier option value:  5.002988612005392\n",
            "  Sum of both barrier option values:  7.137936678210803 \n",
            "\n",
            "\n"
          ],
          "name": "stdout"
        }
      ]
    },
    {
      "cell_type": "markdown",
      "metadata": {
        "id": "JIB76UHWGCvd"
      },
      "source": [
        "## Q 2 Asian Option"
      ]
    },
    {
      "cell_type": "code",
      "metadata": {
        "id": "iafYysRoGCvs"
      },
      "source": [
        "def MonteCarlo_Controlvariate_Asian(K,n,N,sig,r,s0):\n",
        "    Sin=np.zeros(K)\n",
        "    V=np.zeros(K)\n",
        "    UV=np.zeros(K)\n",
        "    std = sig/np.sqrt(N)\n",
        "    mu=(r-0.5*(std*std*N))/N\n",
        "    \n",
        "    for j in range(K):\n",
        "        np.random.seed(j+1)\n",
        "        xi = np.random.normal(mu,std,n)\n",
        "        S=[s0]\n",
        "        for i in range(n):S.append(S[-1]*np.exp(xi[i]))\n",
        "        Sin[j]=np.exp(-r*n/N)*max(np.mean(S)-k,0)\n",
        "        V[j]=np.sum(S)\n",
        "        UV[j]=S[0]*(1-np.exp(r*(n+1)/N))/(1-np.exp(r/N))\n",
        "    \n",
        "    COV=np.cov(Sin,V)\n",
        "    C=-COV[0][1]/(np.var(V))\n",
        "    Z=Sin+C*(V-UV)\n",
        "    asian=np.mean(Sin)\n",
        "    print('Simulations',K,'\\nMonte Carlo Asian option Value: ',asian)\n",
        "    asian=np.mean(Z)\n",
        "    print('Controlvariate Asian option Value  : ',asian,'\\n\\n')"
      ],
      "execution_count": null,
      "outputs": []
    },
    {
      "cell_type": "code",
      "metadata": {
        "id": "N9S7a2jkGCv2",
        "outputId": "e6dea8ec-d837-4753-fb08-be42e9831847",
        "colab": {
          "base_uri": "https://localhost:8080/",
          "height": 357
        }
      },
      "source": [
        "k,r,sig,n,N,s0=100,6e-2,0.25,252,252,100\n",
        "for i in range(2,6):MonteCarlo_Controlvariate_Asian(10**i,n,N,sig,r,s0)"
      ],
      "execution_count": null,
      "outputs": [
        {
          "output_type": "stream",
          "text": [
            "Simulations 100 \n",
            "Monte Carlo Asian option Value:  6.650613853850224\n",
            "Controlvariate Asian option Value  :  7.076515997564274 \n",
            "\n",
            "\n",
            "Simulations 1000 \n",
            "Monte Carlo Asian option Value:  7.526999973780151\n",
            "Controlvariate Asian option Value  :  7.119151230303046 \n",
            "\n",
            "\n",
            "Simulations 10000 \n",
            "Monte Carlo Asian option Value:  7.25934377806506\n",
            "Controlvariate Asian option Value  :  7.110973120153497 \n",
            "\n",
            "\n",
            "Simulations 100000 \n",
            "Monte Carlo Asian option Value:  7.04945957816357\n",
            "Controlvariate Asian option Value  :  7.0958955942363025 \n",
            "\n",
            "\n"
          ],
          "name": "stdout"
        }
      ]
    },
    {
      "cell_type": "markdown",
      "metadata": {
        "id": "KnxiCcDxGCv7"
      },
      "source": [
        "## Q 3 : Loop-back Option"
      ]
    },
    {
      "cell_type": "code",
      "metadata": {
        "id": "Ms3VAzckGCv_"
      },
      "source": [
        "def MonteCarlo_Loopback(K,n,N,sig,r,s0):\n",
        "    Sin=np.zeros(K)\n",
        "    std = sig/np.sqrt(N)\n",
        "    mu=(r-0.5*(std*std*N))/N\n",
        "    \n",
        "    for j in range(K):\n",
        "        np.random.seed(j+1)\n",
        "        xi = np.random.normal(mu,std,n)\n",
        "        S=[s0]\n",
        "        for i in range(n):S.append(S[-1]*np.exp(xi[i]))\n",
        "        Sin[j]=np.exp(-r*n/N)*max(S[-1]-np.min(S),0)\n",
        "    lpbk=np.mean(Sin)\n",
        "    print('Simulations :',K)\n",
        "    print('Loop-back Option Value:',lpbk)"
      ],
      "execution_count": null,
      "outputs": []
    },
    {
      "cell_type": "code",
      "metadata": {
        "id": "s-JZUNVaGCwC",
        "outputId": "a920c068-7112-463f-b177-b81a0501d4a5",
        "colab": {
          "base_uri": "https://localhost:8080/",
          "height": 153
        }
      },
      "source": [
        "k,r,sig,n,N,s0=100,6e-2,0.25,252,252,100\n",
        "for i in range(2,6):MonteCarlo_Loopback(10**i,n,N,sig,r,s0)"
      ],
      "execution_count": null,
      "outputs": [
        {
          "output_type": "stream",
          "text": [
            "Simulations : 100\n",
            "Loop-back Option Value: 19.148586771415104\n",
            "Simulations : 1000\n",
            "Loop-back Option Value: 20.736241020212002\n",
            "Simulations : 10000\n",
            "Loop-back Option Value: 20.5565471854992\n",
            "Simulations : 100000\n",
            "Loop-back Option Value: 20.26079791710138\n"
          ],
          "name": "stdout"
        }
      ]
    }
  ]
}